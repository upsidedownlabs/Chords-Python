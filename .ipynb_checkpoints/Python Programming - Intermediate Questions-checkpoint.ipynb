{
 "cells": [
  {
   "cell_type": "code",
   "execution_count": null,
   "id": "11bb28f8",
   "metadata": {},
   "outputs": [],
   "source": [
    "#ANAGRAM DETECTION"
   ]
  },
  {
   "cell_type": "code",
   "execution_count": null,
   "id": "0bceee73",
   "metadata": {},
   "outputs": [],
   "source": [
    "#FIZZ BUZZ"
   ]
  },
  {
   "cell_type": "code",
   "execution_count": null,
   "id": "49b8d9b9",
   "metadata": {},
   "outputs": [],
   "source": [
    "#BINARY SEARCH ON A SORTED LIST"
   ]
  },
  {
   "cell_type": "code",
   "execution_count": null,
   "id": "049d3f3e",
   "metadata": {},
   "outputs": [],
   "source": [
    "#CLASS & OBJECT CONCEPT"
   ]
  },
  {
   "cell_type": "code",
   "execution_count": null,
   "id": "b3958fa3",
   "metadata": {},
   "outputs": [],
   "source": [
    "#INHERITANCE"
   ]
  },
  {
   "cell_type": "code",
   "execution_count": null,
   "id": "9b3c9f25",
   "metadata": {},
   "outputs": [],
   "source": [
    "#ENCAPSULATION"
   ]
  },
  {
   "cell_type": "code",
   "execution_count": null,
   "id": "ee34addc",
   "metadata": {},
   "outputs": [],
   "source": [
    "#ABSTRACTION"
   ]
  },
  {
   "cell_type": "code",
   "execution_count": 1,
   "id": "be48b400",
   "metadata": {},
   "outputs": [],
   "source": [
    "#POLYMORPHISM"
   ]
  }
 ],
 "metadata": {
  "kernelspec": {
   "display_name": "Python 3 (ipykernel)",
   "language": "python",
   "name": "python3"
  },
  "language_info": {
   "codemirror_mode": {
    "name": "ipython",
    "version": 3
   },
   "file_extension": ".py",
   "mimetype": "text/x-python",
   "name": "python",
   "nbconvert_exporter": "python",
   "pygments_lexer": "ipython3",
   "version": "3.10.9"
  }
 },
 "nbformat": 4,
 "nbformat_minor": 5
}
