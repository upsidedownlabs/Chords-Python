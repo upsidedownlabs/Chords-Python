{
 "cells": [
  {
   "cell_type": "code",
   "execution_count": 13,
   "id": "417b3ae4",
   "metadata": {},
   "outputs": [
    {
     "name": "stdout",
     "output_type": "stream",
     "text": [
      " Enter any number : 24\n",
      "Number is Even\n"
     ]
    }
   ],
   "source": [
    "# EVEN AND ODD\n",
    "num = int(input(\" Enter any number : \"))\n",
    "if num % 2 == 0:\n",
    "    print(\"Number is Even\")\n",
    "else:\n",
    "    print(\"Number is Odd\")"
   ]
  },
  {
   "cell_type": "code",
   "execution_count": 28,
   "id": "4298eba0",
   "metadata": {},
   "outputs": [
    {
     "name": "stdout",
     "output_type": "stream",
     "text": [
      "Enter any string :kanak\n",
      "True\n"
     ]
    }
   ],
   "source": [
    "#PALINDROME SERIES WITH BOOLEAN\n",
    "string = input(\"Enter any string :\")\n",
    "rev_string = string[::-1]\n",
    "if string == rev_string:\n",
    "    print(True)\n",
    "else:\n",
    "    print(False)"
   ]
  },
  {
   "cell_type": "code",
   "execution_count": 29,
   "id": "d057b61b",
   "metadata": {},
   "outputs": [
    {
     "name": "stdout",
     "output_type": "stream",
     "text": [
      "Enter any string :KANAK\n",
      "The reversed string is : KANAK\n"
     ]
    }
   ],
   "source": [
    "#STRING REVERSING\n",
    "string = input(\"Enter any string :\")\n",
    "rev_string = string[::-1]\n",
    "print(f\"The reversed string is : {rev_string}\")\n",
    "\n",
    "#without any built-in function\n"
   ]
  },
  {
   "cell_type": "code",
   "execution_count": 13,
   "id": "d49f7777",
   "metadata": {},
   "outputs": [
    {
     "name": "stdout",
     "output_type": "stream",
     "text": [
      " Enter any word:payal\n",
      "2\n"
     ]
    }
   ],
   "source": [
    "#COUNTING VOWELS IN A WORD\n",
    "word = input(\" Enter any word:\")\n",
    "vowel = [\"a\",\"e\",\"i\",\"o\",\"u\"]\n",
    "count = 0\n",
    "for character in word:\n",
    "    if character in vowel:\n",
    "        count +=1\n",
    "print(count)"
   ]
  },
  {
   "cell_type": "code",
   "execution_count": 3,
   "id": "430dd68c",
   "metadata": {},
   "outputs": [
    {
     "name": "stdout",
     "output_type": "stream",
     "text": [
      "<class 'str'>\n",
      "24275.0\n"
     ]
    },
    {
     "data": {
      "text/plain": [
       "float"
      ]
     },
     "execution_count": 3,
     "metadata": {},
     "output_type": "execute_result"
    }
   ],
   "source": [
    "#CONVERTING STRING INTO DECIMALS\n",
    "string = \"24275\"\n",
    "print(type(string))\n",
    "decimal_number = float(string)\n",
    "print(decimal_number)\n",
    "type(decimal_number)"
   ]
  },
  {
   "cell_type": "code",
   "execution_count": 15,
   "id": "6b8f6991",
   "metadata": {},
   "outputs": [
    {
     "name": "stdout",
     "output_type": "stream",
     "text": [
      "Enter any word-payal\n",
      "3\n"
     ]
    }
   ],
   "source": [
    "#COUNTING CONSONANTS IN A GIVEN WORD\n",
    "word = input(\"Enter any word-\")\n",
    "vowel = [\"a\",\"e\",\"i\",\"o\",\"u\"]\n",
    "count = 0\n",
    "for character in word:\n",
    "    if character not in vowel:\n",
    "        count += 1\n",
    "print(count)"
   ]
  },
  {
   "cell_type": "code",
   "execution_count": 30,
   "id": "e5a80c60",
   "metadata": {},
   "outputs": [
    {
     "name": "stdout",
     "output_type": "stream",
     "text": [
      "Enter the string -payal lakra \n",
      "Enter the character to find: a\n",
      "4\n"
     ]
    }
   ],
   "source": [
    "#COUNTING NO. OF OCCURENCES OF A CHARACTER IN A STRING\n",
    "string = input('Enter the string - ')\n",
    "i = input(\"Enter the character to find: \")\n",
    "count = 0\n",
    "for character in string:\n",
    "    if character == i:\n",
    "        count +=1\n",
    "print(count)"
   ]
  },
  {
   "cell_type": "code",
   "execution_count": 51,
   "id": "61de400b",
   "metadata": {},
   "outputs": [
    {
     "name": "stdout",
     "output_type": "stream",
     "text": [
      "643\n",
      "First maximum: 78\n",
      "Second maximum: 10\n"
     ]
    }
   ],
   "source": [
    "#FIND THE MAXIMUM NUMBER IN A LIST AND SECOND MAXIMUM NUMBER\n",
    "list1 = [13,53,234,643,12]\n",
    "max_number = max(list1)\n",
    "print(max_number)\n",
    "\n",
    "\n",
    "a = [4, 2, 4, 2, 1, 6, 7, 78, 3, 2, 8, 0, 10]\n",
    "def sol(x):\n",
    "    x = sorted(x)  # Sort the input list\n",
    "    lar = x[-1]  # Get the largest element\n",
    "    lar2 = x[-2]  # Get the second largest element\n",
    "    return lar, lar2  # Return both largest elements\n",
    "lar, lar2 = sol(a)\n",
    "print(\"First maximum:\", lar)\n",
    "print(\"Second maximum:\", lar2)"
   ]
  },
  {
   "cell_type": "code",
   "execution_count": 43,
   "id": "bdb1ea92",
   "metadata": {},
   "outputs": [
    {
     "name": "stdout",
     "output_type": "stream",
     "text": [
      "1\n",
      "Enter list of numbers separated by spaces: 12 44 122 56 4\n",
      "The minimum number in the list is: 4\n"
     ]
    }
   ],
   "source": [
    "#FIND THE MINIMUM NUMBER IN A LIST\n",
    "list1 = [1,3,4,68,5,334]\n",
    "min_number = min(list1)\n",
    "print(min_number)\n",
    "\n",
    "\n",
    "input_string = input(\"Enter list of numbers separated by spaces: \")\n",
    "list2 = [int(num) for num in input_string.split()]\n",
    "min_number2 = min(list2)\n",
    "print(\"The minimum number in the list is:\", min_number2)\n"
   ]
  },
  {
   "cell_type": "code",
   "execution_count": 34,
   "id": "1066271a",
   "metadata": {},
   "outputs": [
    {
     "name": "stdout",
     "output_type": "stream",
     "text": [
      "['1', '2', '3', '4', '5']\n"
     ]
    }
   ],
   "source": [
    "#CONVERTING LIST INTO STRING\n",
    "list1 = [1,2,3,4,5]\n",
    "string1 = [str(element)for element in list1]\n",
    "print(string1)"
   ]
  },
  {
   "cell_type": "code",
   "execution_count": 5,
   "id": "ca394399",
   "metadata": {},
   "outputs": [
    {
     "name": "stdout",
     "output_type": "stream",
     "text": [
      "[7, 9, 11, 13, 15]\n"
     ]
    }
   ],
   "source": [
    "#ADDING TWO LIST ELEMENTS TOGETHER\n",
    "list1 = [1,2,3,4,5]\n",
    "list2 = [6,7,8,9,10]\n",
    "result = [x + y for x , y in zip(list1,list2) ]\n",
    "print(result)"
   ]
  },
  {
   "cell_type": "code",
   "execution_count": 8,
   "id": "0e9e098b",
   "metadata": {},
   "outputs": [
    {
     "name": "stdout",
     "output_type": "stream",
     "text": [
      "Enter the string - my name is payal\n",
      "3\n"
     ]
    }
   ],
   "source": [
    "#COUNTING WHITE SPACES IN A STRING\n",
    "string = input(\"Enter the string - \")\n",
    "count = 0\n",
    "i = \" \"\n",
    "for character in string:\n",
    "    if character.isspace():              #isspace() function is used to count the white space in python\n",
    "    #if character == i:\n",
    "        count +=1\n",
    "print(count)"
   ]
  },
  {
   "cell_type": "code",
   "execution_count": 35,
   "id": "7982d9bd",
   "metadata": {},
   "outputs": [
    {
     "name": "stdout",
     "output_type": "stream",
     "text": [
      "Enter the text string :my name 89dm 5$#@ndieo ldfp\n",
      "Letters: 17\n",
      "Digits: 3\n",
      "Spaces: 4\n",
      "Special characters: 3\n"
     ]
    }
   ],
   "source": [
    "#COUNTING DIGITS,LETTERS,SPACES,SPECIAL CHARACTERS IN A STRING\n",
    "text = input(\"Enter the text string :\")\n",
    "\n",
    "num_letters = 0\n",
    "num_spaces = 0\n",
    "num_specialcharacters = 0\n",
    "num_digits = 0\n",
    "for character in text:\n",
    "    if character.isalpha():\n",
    "        num_letters += 1\n",
    "    elif character.isdigit():\n",
    "        num_digits += 1\n",
    "    elif character.isspace():\n",
    "        num_spaces += 1\n",
    "    else:\n",
    "        num_specialcharacters += 1\n",
    "        \n",
    "print(\"Letters:\", num_letters)\n",
    "print(\"Digits:\", num_digits)\n",
    "print(\"Spaces:\", num_spaces)\n",
    "print(\"Special characters:\", num_specialcharacters)"
   ]
  },
  {
   "cell_type": "code",
   "execution_count": 52,
   "id": "3cdbf44f",
   "metadata": {},
   "outputs": [
    {
     "name": "stdout",
     "output_type": "stream",
     "text": [
      "Enter any string :my name is payal lakra\n",
      "Result after removing whitespaces  mynameispayallakra\n"
     ]
    }
   ],
   "source": [
    "#REMOVING ALL WHITE SPACE FROM A STRING\n",
    "def remove_whitespace(string):\n",
    "    return string.replace(\" \" , \"\").replace(\"\\t\" , \"\").replace(\"\\n\" , \"\")\n",
    "\n",
    "string = input(\"Enter any string :\")\n",
    "result = remove_whitespace(string)\n",
    "print('Result after removing whitespaces ' , result)"
   ]
  },
  {
   "cell_type": "code",
   "execution_count": 56,
   "id": "9dd21994",
   "metadata": {},
   "outputs": [
    {
     "name": "stdout",
     "output_type": "stream",
     "text": [
      "    #\n",
      "   ###\n",
      "  #####\n",
      " #######\n",
      "#########\n"
     ]
    }
   ],
   "source": [
    "#BUILDING A PYRAMID\n",
    "def pyfunc(r):\n",
    "    for x in range(r):\n",
    "        print(' '*(r-x-1)+'#'*(2*x+1))    \n",
    "pyfunc(5)"
   ]
  },
  {
   "cell_type": "code",
   "execution_count": 32,
   "id": "8232d92b",
   "metadata": {},
   "outputs": [
    {
     "name": "stdout",
     "output_type": "stream",
     "text": [
      "The Randomized List is: [5, 1, 3, 2, 4]\n"
     ]
    }
   ],
   "source": [
    "#RANDOMIZING THE ITEMS OF A LIST\n",
    "import random\n",
    "listp = [1,2,3,4,5]\n",
    "random.shuffle(listp)\n",
    "print(f\"The Randomized List is: {listp}\")\n"
   ]
  },
  {
   "cell_type": "code",
   "execution_count": 12,
   "id": "dca3c64d",
   "metadata": {},
   "outputs": [
    {
     "name": "stdout",
     "output_type": "stream",
     "text": [
      "Enter a number :12345\n",
      "54321\n"
     ]
    }
   ],
   "source": [
    "#REVERSE A NUMBER\n",
    "number = int(input(\"Enter a number :\"))\n",
    "rev_number = int(str(number)[::-1])#int slicing not possible.so 1st we convert it into string then do slicing then again convert it into int.\n",
    "print(rev_number)"
   ]
  },
  {
   "cell_type": "code",
   "execution_count": 68,
   "id": "d918d427",
   "metadata": {},
   "outputs": [
    {
     "name": "stdout",
     "output_type": "stream",
     "text": [
      "Enter number: 24\n",
      "Number is not prime\n"
     ]
    }
   ],
   "source": [
    "#PRIME NUMBER OR NOT\n",
    "num = int(input(\"Enter number: \"))\n",
    "\n",
    "if num <= 1:\n",
    "    print(\"Re-enter number.\")\n",
    "else:\n",
    "    prime = True\n",
    "    for i in range(2, int(num**0.5) + 1):\n",
    "        if num % i == 0:\n",
    "            prime = False\n",
    "            break\n",
    "\n",
    "    if prime:\n",
    "        print(\"Number is prime\")\n",
    "    else:\n",
    "        print(\"Number is not prime\")"
   ]
  },
  {
   "cell_type": "code",
   "execution_count": 63,
   "id": "0b87adab",
   "metadata": {},
   "outputs": [
    {
     "name": "stdout",
     "output_type": "stream",
     "text": [
      "Enter no. of terms :4\n",
      "[0, 1, 1, 2]\n"
     ]
    }
   ],
   "source": [
    "#WRITING FIBONACCI SERIES\n",
    "num_terms = int(input(\"Enter no. of terms :\"))\n",
    "\n",
    "fib_Series = [0,1]\n",
    "while len(fib_Series) < num_terms:\n",
    "    next_num = fib_Series[-1] + fib_Series[-2]\n",
    "    fib_Series.append(next_num)\n",
    "print(fib_Series)"
   ]
  },
  {
   "cell_type": "code",
   "execution_count": 14,
   "id": "767f9b81",
   "metadata": {},
   "outputs": [
    {
     "name": "stdout",
     "output_type": "stream",
     "text": [
      "5\n"
     ]
    }
   ],
   "source": [
    "#COUNT THE ELEMENTS IN A LIST\n",
    "list1 = [1,2,3,4,5]\n",
    "count = len(list1)\n",
    "print(count)"
   ]
  },
  {
   "cell_type": "code",
   "execution_count": 36,
   "id": "6819b119",
   "metadata": {},
   "outputs": [
    {
     "name": "stdout",
     "output_type": "stream",
     "text": [
      "4\n"
     ]
    }
   ],
   "source": [
    "#FIND THE MIDDLE ELEMENT IN A LIST\n",
    "list1 = [1,2,3,4,5,6,7]\n",
    "count = len(list1)\n",
    "mid_index = count // 2\n",
    "mid_element = list1[mid_index]\n",
    "print(mid_element)"
   ]
  },
  {
   "cell_type": "code",
   "execution_count": 53,
   "id": "cf992363",
   "metadata": {},
   "outputs": [
    {
     "name": "stdout",
     "output_type": "stream",
     "text": [
      "[1, 2, 3, 4, 5, 3]\n",
      "(1, 2, 3, 4, 5, 3)\n",
      "{1, 2, 3, 5, 6}\n",
      "{'id': '1', 'name': 'payal', 'age': '22'}\n",
      "I am a Girl\n"
     ]
    }
   ],
   "source": [
    "#ALL DATA TYPES\n",
    "list1 = [1,2,3,4,5,3]\n",
    "tuple1 = (1,2,3,4,5,3)\n",
    "dict1 = {\"id\":\"1\" , \"name\" : \"payal\" , \"age\" : \"22\"}\n",
    "set1 = {1,2,3,5,6,3}    #only unique entries\n",
    "string = \"I am a Girl\"\n",
    "print(list1)\n",
    "print(tuple1)\n",
    "print(set1)\n",
    "print(dict1)\n",
    "print(string)"
   ]
  },
  {
   "cell_type": "code",
   "execution_count": 72,
   "id": "993c27e8",
   "metadata": {},
   "outputs": [
    {
     "name": "stdout",
     "output_type": "stream",
     "text": [
      "Merged array: [1, 2, 3, 4, 5, 6, 7, 8, 9, 10]\n"
     ]
    }
   ],
   "source": [
    "#MERGE 2 SORTED ARRAYS\n",
    "def merge_sorted_arrays(arr1, arr2):\n",
    "    return sorted(arr1 + arr2)\n",
    "arr1 = [1, 3, 5, 7, 9]\n",
    "arr2 = [2, 4, 6, 8, 10]\n",
    "merged_array = merge_sorted_arrays(arr1, arr2)\n",
    "print(\"Merged array:\", merged_array)"
   ]
  },
  {
   "cell_type": "code",
   "execution_count": 71,
   "id": "7e8f719e",
   "metadata": {},
   "outputs": [
    {
     "name": "stdout",
     "output_type": "stream",
     "text": [
      "{1, 2, 4, 5, 6}\n"
     ]
    }
   ],
   "source": [
    "#FIND DUPLICATE ELEMENTS IN A LIST & REMOVE THEM\n",
    "my_list = [1,4,5,2,4,2,4,6,1]\n",
    "my_set = set(my_list)\n",
    "print(my_set)      #set removes the duplicate items"
   ]
  },
  {
   "cell_type": "code",
   "execution_count": 70,
   "id": "5dc37abe",
   "metadata": {},
   "outputs": [
    {
     "name": "stdout",
     "output_type": "stream",
     "text": [
      "[3, 4, 23, 57, 67, 86, 1223]\n"
     ]
    }
   ],
   "source": [
    "#SORT LIST IN ASCENDING ORDER\n",
    "list1 = [3,57,1223,86,4,23,67]\n",
    "sorted_list = sorted(list1)  #using sorted function\n",
    "print(sorted_list)"
   ]
  }
 ],
 "metadata": {
  "kernelspec": {
   "display_name": "Python 3 (ipykernel)",
   "language": "python",
   "name": "python3"
  },
  "language_info": {
   "codemirror_mode": {
    "name": "ipython",
    "version": 3
   },
   "file_extension": ".py",
   "mimetype": "text/x-python",
   "name": "python",
   "nbconvert_exporter": "python",
   "pygments_lexer": "ipython3",
   "version": "3.10.9"
  }
 },
 "nbformat": 4,
 "nbformat_minor": 5
}
