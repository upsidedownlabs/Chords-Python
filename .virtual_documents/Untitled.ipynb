from pylsl import resolve_stream

print("Looking for an LSL stream...")
streams = resolve_stream()

if streams:
    print(f"Found {len(streams)} stream(s).")
    for stream in streams:
        print(f"Stream name: {stream.name()}")
else:
    print("No LSL streams found.")




